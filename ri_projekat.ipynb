{
 "cells": [
  {
   "cell_type": "code",
   "execution_count": 1,
   "id": "d0030418",
   "metadata": {},
   "outputs": [],
   "source": [
    "from matplotlib import pyplot as plt\n",
    "import pandas as np\n",
    "import random\n",
    "import numpy as np\n",
    "import time"
   ]
  },
  {
   "cell_type": "code",
   "execution_count": 2,
   "id": "99b20dbc-8556-4da8-a5ae-2b89169e876d",
   "metadata": {},
   "outputs": [
    {
     "data": {
      "text/plain": [
       "array([-100.,  -75.,  -50.,  -25.,    0.,   25.,   50.,   75.,  100.])"
      ]
     },
     "execution_count": 2,
     "metadata": {},
     "output_type": "execute_result"
    }
   ],
   "source": [
    "nodes = []\n",
    "random.random()\n",
    "main_nodes = dict()\n",
    "\n",
    "main_node_connected_to_central = dict()\n",
    "connected_main_nodes = []\n",
    "main_nodes = dict()\n",
    "nodes_hash = dict()\n",
    "# main_node = dict()\n",
    "xs = [x[0] for x in nodes]\n",
    "ys = [y[1] for y in nodes]\n",
    "edge_list_per_cluster = dict()\n",
    "central_node = (0, 0)\n",
    "edges_between_nodes_in_different_clusters = []\n",
    "k = 9\n",
    "i = 0\n",
    "p = 1\n",
    "spaceSize = 100\n",
    "bounds_xs = np.linspace(-spaceSize, spaceSize, k)\n",
    "bounds_ys = np.linspace(-spaceSize, spaceSize, k)\n",
    "bounds_xs"
   ]
  },
  {
   "cell_type": "code",
   "execution_count": 3,
   "id": "2ef81116",
   "metadata": {},
   "outputs": [],
   "source": [
    "def euclid(t1, t2):\n",
    "    import math\n",
    "    return math.sqrt((t1[0] - t2[0])**2 + (t1[1] - t2[1])**2)"
   ]
  },
  {
   "cell_type": "code",
   "execution_count": 4,
   "id": "62370d10",
   "metadata": {},
   "outputs": [],
   "source": [
    "def inSameCluster(t1, t2, bounds_xs, i, bounds_ys, j, k):\n",
    "    try:\n",
    "        if t1[0] >= bounds_xs[i] and t2[0] >= bounds_xs[i] and t1[0] < bounds_xs[i +1]and t2[0] < bounds_xs[i+1] : \n",
    "            if t1[1] >= bounds_ys[j] and t2[1] >= bounds_ys[j] and t1[1] < bounds_ys[j+1] and t2[1] < bounds_ys[j+1]:\n",
    "                return True\n",
    "        return False\n",
    "    except:\n",
    "        return True"
   ]
  },
  {
   "cell_type": "code",
   "execution_count": 5,
   "id": "8e72e95e",
   "metadata": {},
   "outputs": [],
   "source": [
    "def draw_main_nodes(main_nodes : dict):\n",
    "    for node in main_nodes.values():\n",
    "        plt.scatter([node[0]], [node[1]], color = \"red\", s = 100)"
   ]
  },
  {
   "cell_type": "code",
   "execution_count": 6,
   "id": "98050fd8",
   "metadata": {},
   "outputs": [],
   "source": [
    "def number_of_main_nodes_not_connected_to_central(main_nodes):\n",
    "    counter = 0 \n",
    "    for node in main_nodes.values():\n",
    "        if main_node_connected_to_central[node] == False:\n",
    "            counter +=1\n",
    "            \n",
    "    return counter > 0 "
   ]
  },
  {
   "cell_type": "code",
   "execution_count": 7,
   "id": "c1529b87",
   "metadata": {},
   "outputs": [],
   "source": [
    "def draw_edges_for_current_cluster(list_edge):\n",
    "    for edge in list_edge:\n",
    "        plt.plot([edge[0][0], edge[1][0]], [edge[0][1], edge[1][1]], color = \"green\", lw = 0.5)\n",
    "        plt.scatter([edge[0][0], edge[1][0]], [edge[0][1], edge[1][1]], color = \"red\")        "
   ]
  },
  {
   "cell_type": "code",
   "execution_count": 8,
   "id": "6079b03c",
   "metadata": {},
   "outputs": [],
   "source": [
    "def draw_edges(edge_list):\n",
    "    for key in edge_list.keys():\n",
    "#         print(edge_list[i])\n",
    "#         i = edge_list[j]\n",
    "        \n",
    "        draw_edges_for_current_cluster(edge_list[key])\n",
    "#         plt.plot([i[0][0], i[1][0]], [i[1][0], i[1][1]])"
   ]
  },
  {
   "cell_type": "code",
   "execution_count": 9,
   "id": "8b3f3707",
   "metadata": {},
   "outputs": [],
   "source": [
    "def draw_graph():\n",
    "    for i_0 in range(len(bounds_xs)):\n",
    "        for j_0 in range(len(bounds_ys)):\n",
    "            plt.plot([bounds_xs[i_0], bounds_xs[i_0]], [min(bounds_ys), max(bounds_xs)], color =\"green\", dashes = [1])\n",
    "            plt.plot([min(bounds_xs), max(bounds_xs)], [bounds_ys[j_0], bounds_ys[j_0]], color =\"green\", dashes = [1])\n",
    "\n"
   ]
  },
  {
   "cell_type": "code",
   "execution_count": 10,
   "id": "3e947b86",
   "metadata": {},
   "outputs": [],
   "source": [
    "def connect_main_nodes(main_nodes : dict):\n",
    "    for node in main_nodes.values():\n",
    "        neighbour = find_closest_neighbour(node, main_nodes.values())\n",
    "        connected_main_nodes.append((node, neighbour))\n",
    "    return connected_main_nodes"
   ]
  },
  {
   "cell_type": "code",
   "execution_count": 11,
   "id": "18e7040f",
   "metadata": {},
   "outputs": [],
   "source": [
    "# for x in connect_main_nodes(main_nodes):\n",
    "#     if x[1] != None:\n",
    "#         plt.plot([x[0][0], x[1][0]], [x[0][1], x[1][1]])\n",
    "#         plt.scatter([x[0][0], x[1][0]], [x[0][1], x[1][1]])"
   ]
  },
  {
   "cell_type": "code",
   "execution_count": 12,
   "id": "577f4bdb",
   "metadata": {},
   "outputs": [],
   "source": [
    "def init_main_nodes_connected_to_central():\n",
    "    for node in main_nodes.values():\n",
    "        main_node_connected_to_central[node] = False\n",
    "    "
   ]
  },
  {
   "cell_type": "code",
   "execution_count": 13,
   "id": "f295a21c",
   "metadata": {},
   "outputs": [],
   "source": [
    "def find_closest_node_to_central(main_nodes):\n",
    "    max_dist = float('inf')\n",
    "    closest_node = None\n",
    "    for node in main_nodes.values():\n",
    "        if euclid(node, central_node) < max_dist and main_node_connected_to_central[node] == False:\n",
    "            max_dist = euclid(node, central_node)\n",
    "            closest_node = node\n",
    "    \n",
    "    return closest_node"
   ]
  },
  {
   "cell_type": "code",
   "execution_count": 14,
   "id": "d0b7e001",
   "metadata": {},
   "outputs": [],
   "source": [
    "def flag_main_nodes_as_true_recursively():\n",
    "    pass"
   ]
  },
  {
   "cell_type": "code",
   "execution_count": 15,
   "id": "c4c15986",
   "metadata": {},
   "outputs": [
    {
     "data": {
      "text/plain": [
       "True"
      ]
     },
     "execution_count": 15,
     "metadata": {},
     "output_type": "execute_result"
    }
   ],
   "source": [
    "(1,2) not in [(1,3),(2,3)]"
   ]
  },
  {
   "cell_type": "code",
   "execution_count": 16,
   "id": "79939547",
   "metadata": {},
   "outputs": [],
   "source": [
    "def find_closest_neighbour(current_node, other_nodes):\n",
    "    min_dist = float('inf')\n",
    "    closest = None\n",
    "    for tmp_node in other_nodes:\n",
    "        if current_node != tmp_node and ((tmp_node, current_node) not in connected_main_nodes) and ((current_node, tmp_node) not in connected_main_nodes):\n",
    "            if euclid(current_node, tmp_node) < min_dist:\n",
    "                min_dist = euclid(current_node, tmp_node)\n",
    "                closest = tmp_node\n",
    "    return closest"
   ]
  },
  {
   "cell_type": "code",
   "execution_count": 17,
   "id": "081ffa92",
   "metadata": {},
   "outputs": [],
   "source": [
    "def find_max_node(hash_map_of_nodes : dict):\n",
    "    return sorted(hash_map_of_nodes, key = lambda x: hash_map_of_nodes[x], reverse = True)[0]"
   ]
  },
  {
   "cell_type": "code",
   "execution_count": 18,
   "id": "fa2f0fac",
   "metadata": {},
   "outputs": [],
   "source": [
    "def make_unique_list_from_tuples(list_of_tuples):\n",
    "    unique = []\n",
    "    for x in list_of_tuples:\n",
    "        unique.append(x[0])\n",
    "        unique.append(x[1])\n",
    "#     print(unique)\n",
    "#     print([unique.count(x) for x in unique])\n",
    "    return(unique)"
   ]
  },
  {
   "cell_type": "code",
   "execution_count": 19,
   "id": "5b685b26",
   "metadata": {},
   "outputs": [],
   "source": [
    "def count_for_every_node_in_cluster(unique_list):\n",
    "    hash_map = dict()\n",
    "    for x in unique_list:\n",
    "        hash_map[x] = unique_list.count(x)\n",
    "#     print(hash_map)\n",
    "    return hash_map"
   ]
  },
  {
   "cell_type": "code",
   "execution_count": 20,
   "id": "a8d14918-0aab-487e-b22e-34ca8d148973",
   "metadata": {},
   "outputs": [],
   "source": [
    "def recursively_set_other_nodes_as_connected_to_central(closest_node, main_node_connected_to_central, connected_main_nodes):\n",
    "    for pair_of_nodes in connected_main_nodes:\n",
    "        if (closest_node == pair_of_nodes[0] and main_node_connected_to_central[pair_of_nodes[1]] == False) or (closest_node == pair_of_nodes[1] and main_node_connected_to_central[pair_of_nodes[0]] == False):\n",
    "            # print(\"chaning_hash map for {}\".format(pair_of_nodes))\n",
    "            if closest_node == pair_of_nodes[0]:\n",
    "                main_node_connected_to_central[pair_of_nodes[1]] = True\n",
    "                recursively_set_other_nodes_as_connected_to_central(pair_of_nodes[1], main_node_connected_to_central, connected_main_nodes)\n",
    "            else:\n",
    "                main_node_connected_to_central[pair_of_nodes[0]] = True\n",
    "                recursively_set_other_nodes_as_connected_to_central(pair_of_nodes[0], main_node_connected_to_central, connected_main_nodes)\n",
    "                \n"
   ]
  },
  {
   "cell_type": "code",
   "execution_count": 21,
   "id": "e968a10a-4c4a-4434-ab6d-e7132e734552",
   "metadata": {},
   "outputs": [],
   "source": [
    "def calculateNumOfEdges():\n",
    "    counter = 0\n",
    "    for cluster in edge_list_per_cluster.keys():\n",
    "        counter += len(edge_list_per_cluster[cluster])\n",
    "    return counter"
   ]
  },
  {
   "cell_type": "code",
   "execution_count": null,
   "id": "ffebaa2e",
   "metadata": {
    "scrolled": true
   },
   "outputs": [],
   "source": [
    "p = 0.8\n",
    "plt.figure(figsize=(15, 15))\n",
    "for i_0 in range(len(bounds_xs)):\n",
    "    for j_0 in range(len(bounds_ys)):\n",
    "        plt.plot([bounds_xs[i_0], bounds_xs[i_0]], [min(bounds_ys), max(bounds_xs)], color =\"green\", dashes = [1])\n",
    "        plt.plot([min(bounds_xs), max(bounds_xs)], [bounds_ys[j_0], bounds_ys[j_0]], color =\"green\", dashes = [1])\n",
    "\n",
    "\n",
    "\n",
    "for i_0 in range(1,len(bounds_xs)):\n",
    "    for j_0 in range(1,len(bounds_ys)):\n",
    "        # plt.plot([bounds_xs[i_0], bounds_xs[i_0]], [min_ys - 2, max_ys +2], color =\"green\", dashes = [1])\n",
    "        # plt.plot([min_xs - 2, max_xs + 2], [bounds_ys[j_0], bounds_ys[j_0]], color =\"green\", dashes = [1])\n",
    "        list_of_nodes_in_current_cluster = []\n",
    "        for _ in range(10):\n",
    "            node = (random.uniform(bounds_xs[i_0-1], bounds_xs[i_0]), random.uniform(bounds_ys[j_0-1], bounds_ys[j_0]))\n",
    "            plt.scatter([node[0]],[node[1]], color = \"red\")\n",
    "            list_of_nodes_in_current_cluster.append(node)\n",
    "        nodes_hash[\"cluster_{}_{}\".format(i_0, j_0)] = list_of_nodes_in_current_cluster\n",
    "        edges_for_current_cluster = []\n",
    "        for i in range(len(nodes_hash[\"cluster_{}_{}\".format(i_0, j_0)])):\n",
    "            for j in range(len(nodes_hash[\"cluster_{}_{}\".format(i_0, j_0)])):\n",
    "                if i != j: \n",
    "                    if random.random() > p:\n",
    "                        plt.plot([nodes_hash[\"cluster_{}_{}\".format(i_0, j_0)][i][0], nodes_hash[\"cluster_{}_{}\".format(i_0, j_0)][j][0]], [nodes_hash[\"cluster_{}_{}\".format(i_0, j_0)][i][1], nodes_hash[\"cluster_{}_{}\".format(i_0, j_0)][j][1]], color =\"blue\", lw = 0.5, dashes = [2])\n",
    "                        edges_for_current_cluster.append((nodes_hash[\"cluster_{}_{}\".format(i_0, j_0)][i], nodes_hash[\"cluster_{}_{}\".format(i_0, j_0)][j]))\n",
    "        if len(edges_for_current_cluster) > 0:\n",
    "            max_node = find_max_node(count_for_every_node_in_cluster(make_unique_list_from_tuples(edges_for_current_cluster)))\n",
    "            plt.scatter([max_node[0]], [max_node[1]], color = \"green\", s = 200)\n",
    "            main_nodes[\"cluster_{}_{}\".format(i_0, j_0)] = max_node\n",
    "        \n",
    "        for checkNode in list_of_nodes_in_current_cluster:\n",
    "            if checkNode != max_node:\n",
    "                if ((max_node, checkNode) not in edges_for_current_cluster) and ((checkNode, max_node) not in edges_for_current_cluster):\n",
    "                    plt.plot([max_node[0], checkNode[0]], [max_node[1], checkNode[1]], color = \"red\", dashes = [2])\n",
    "                    edges_for_current_cluster.append((max_node, checkNode))\n",
    "        edge_list_per_cluster[\"cluster_{}_{}\".format(i_0, j_0)] = edges_for_current_cluster\n",
    "\n",
    "\n",
    "#random povezivanje fakulteta sa razlicitih univerziteta\n",
    "for i_0 in range(1,len(bounds_xs)):\n",
    "    for j_0 in range(1, len(bounds_ys)):\n",
    "        for _ in range(3):\n",
    "            node = random.randint(0,len(nodes_hash[\"cluster_{}_{}\".format(i_0, j_0)]) - 1) \n",
    "            random_cluster_i = random.randint(1, len(bounds_xs) - 1) \n",
    "            random_cluster_j = random.randint(1, len(bounds_ys) - 1)\n",
    "            picked_node = nodes_hash[\"cluster_{}_{}\".format(i_0, j_0)][node]\n",
    "            for i_node in nodes_hash[\"cluster_{}_{}\".format(random_cluster_i, random_cluster_j)]:\n",
    "                if random.random() > 0.5 and (i_node,picked_node) not in edges_between_nodes_in_different_clusters:\n",
    "    #                 print(i_node)\n",
    "                    picked_node = nodes_hash[\"cluster_{}_{}\".format(i_0, j_0)][node]\n",
    "                    plt.plot([picked_node[0], i_node[0]], [picked_node[1], i_node[1]], color = \"red\", lw=0.5, dashes = [3])\n",
    "                    edges_between_nodes_in_different_clusters.append((i_node, picked_node))\n",
    "        \n",
    "plt.plot(bounds_ys,[0 for _ in range(len(bounds_ys))], color = \"black\", lw=3)\n",
    "plt.plot([0 for _ in range(len(bounds_xs))], bounds_xs, color = \"black\", lw = 3)\n",
    "plt.savefig(\"rezultati/pocetna_{}.png\".format(str(time.localtime()[3]) + \"_\" + str(time.localtime()[4]) + \"_\" + str(time.localtime()[5])))"
   ]
  },
  {
   "cell_type": "code",
   "execution_count": null,
   "id": "4456b506-3508-406c-ab54-057bb8770c90",
   "metadata": {},
   "outputs": [],
   "source": [
    "init_size = calculateNumOfEdges()  + len(edges_between_nodes_in_different_clusters)\n",
    "print(\"Init size \" + str(init_size))"
   ]
  },
  {
   "cell_type": "code",
   "execution_count": null,
   "id": "380712ac",
   "metadata": {},
   "outputs": [],
   "source": [
    "main_node_connected_to_central"
   ]
  },
  {
   "cell_type": "code",
   "execution_count": null,
   "id": "8aa8c04d-faec-4da3-8d4c-29d21f5605b4",
   "metadata": {},
   "outputs": [],
   "source": [
    "def fix_disconnected_main_nodes(connected_main_nodes, main_node_connected_to_central):\n",
    "    pass"
   ]
  },
  {
   "cell_type": "code",
   "execution_count": null,
   "id": "8f89ab2f-2a21-417c-ab7a-cdc0ea564320",
   "metadata": {},
   "outputs": [],
   "source": [
    "(1, _) in [(2,2), (2,3)]"
   ]
  },
  {
   "cell_type": "code",
   "execution_count": null,
   "id": "7a0a4d62-a60e-484a-80dd-9d9c27f1dd43",
   "metadata": {},
   "outputs": [],
   "source": [
    "def node_connected_to_main_in_cluster(main_node, edge):\n",
    "    # print(list(edge))\n",
    "    if main_node == edge[0] or main_node == edge[1]:\n",
    "        return True\n",
    "    else:\n",
    "        return False"
   ]
  },
  {
   "cell_type": "code",
   "execution_count": null,
   "id": "caa60089-45c6-4826-9597-59fe612f2005",
   "metadata": {},
   "outputs": [],
   "source": [
    "def checkIfBothConnectedToMainNode(main_node, first_edge, second_edge):\n",
    "    return node_connected_to_main_in_cluster(main_node, first_edge) and node_connected_to_main_in_cluster(main_node, second_edge)"
   ]
  },
  {
   "cell_type": "code",
   "execution_count": null,
   "id": "50b2109c-9201-4e99-8e84-e57601543808",
   "metadata": {},
   "outputs": [],
   "source": [
    "def findNotMainNode(main_node,edge):\n",
    "    if main_node == edge[0]:\n",
    "        return edge[1]\n",
    "    else:\n",
    "        return edge[0]"
   ]
  },
  {
   "cell_type": "code",
   "execution_count": null,
   "id": "366fa617-2f2a-4878-a81b-77f4eca34c3d",
   "metadata": {},
   "outputs": [],
   "source": [
    "def removeEdgeBetweenTwoNodes(main_node,first_edge, second_edge, edges : list):\n",
    "    first_node = findNotMainNode(main_node,first_edge)\n",
    "    second_node = findNotMainNode(main_node,second_edge)\n",
    "    plt.plot([first_node[0], second_node[0]], [first_node[1], second_node[1]], color = \"red\", lw = 0.2, dashes = [1])\n",
    "    if (first_node, second_node) in edges:\n",
    "        edges.remove((first_node, second_node))\n",
    "    elif (second_node, first_node) in edges:\n",
    "        edges.remove((second_node,first_node))\n",
    "        "
   ]
  },
  {
   "cell_type": "code",
   "execution_count": null,
   "id": "585d4b0e-cbc9-4e9b-9f29-54775f69f9f7",
   "metadata": {},
   "outputs": [],
   "source": [
    "def process_current_cluster(main_node, edges):\n",
    "    for i in range(len(edges)):\n",
    "        for j in range(len(edges)):\n",
    "            if j != i and i < len(edges) and j < len(edges):\n",
    "                if checkIfBothConnectedToMainNode(main_node, edges[i], edges[j]):\n",
    "                    plt.plot([edges[i][0][0], edges[i][1][0]], [edges[i][0][1], edges[i][1][1]], color=\"yellow\", lw = 3)\n",
    "                    plt.plot([edges[j][0][0], edges[j][1][0]], [edges[j][0][1], edges[j][1][1]], color=\"yellow\", lw = 3)\n",
    "                    removeEdgeBetweenTwoNodes(main_node, edges[i], edges[j], edges)\n",
    "                    # plt.show()"
   ]
  },
  {
   "cell_type": "code",
   "execution_count": null,
   "id": "166b1027-33db-42cb-abe0-8c7987cd5728",
   "metadata": {},
   "outputs": [],
   "source": [
    "def delete_unnecessary_edges_in_clusters(main_nodes, edge_list_per_cluster):\n",
    "    for cluster in edge_list_per_cluster.keys():\n",
    "        if len(edge_list_per_cluster[cluster]) > 0:\n",
    "            process_current_cluster(main_nodes[cluster], edge_list_per_cluster[cluster])\n",
    "        # plt.show()"
   ]
  },
  {
   "cell_type": "code",
   "execution_count": null,
   "id": "815f25dc-e06c-4b73-8eb7-58bc11f03c07",
   "metadata": {},
   "outputs": [],
   "source": [
    "for i in range(len([1,2,3])):\n",
    "    print(i)"
   ]
  },
  {
   "cell_type": "code",
   "execution_count": null,
   "id": "3476f9c8-227e-4c47-9215-f6c79a926d64",
   "metadata": {},
   "outputs": [],
   "source": [
    "# edge_list_per_cluster[\"cluster_1_2\"]"
   ]
  },
  {
   "cell_type": "code",
   "execution_count": null,
   "id": "7bb2ec3b-74b7-4ba7-a92f-9b59378f7f78",
   "metadata": {},
   "outputs": [],
   "source": [
    "def add_new_edge(cluster, main_node, node):\n",
    "    edge_list_per_cluster[cluster].append((main_node, node))"
   ]
  },
  {
   "cell_type": "code",
   "execution_count": null,
   "id": "cb6c48d0-aa97-4a0c-9da7-b497651a6a28",
   "metadata": {},
   "outputs": [],
   "source": [
    "def delete_cluster(cluster):\n",
    "    main_nodes.pop(cluster)\n",
    "    edge_list_per_cluster[cluster].clear()"
   ]
  },
  {
   "cell_type": "code",
   "execution_count": null,
   "id": "b999ccd1",
   "metadata": {
    "scrolled": true
   },
   "outputs": [],
   "source": [
    "init_main_nodes_connected_to_central()\n",
    "\n",
    "delete_cluster(\"cluster_1_1\")\n",
    "plt.figure(figsize = (20, 20))\n",
    "before = calculateNumOfEdges()\n",
    "print(\"Size of edges before deleting unnecessary edges in same cluster \" + str(calculateNumOfEdges()))\n",
    "delete_unnecessary_edges_in_clusters(main_nodes, edge_list_per_cluster)\n",
    "draw_edges(edge_list_per_cluster)\n",
    "after = calculateNumOfEdges()\n",
    "print(\"Size of edges before deleting unnecessary edges in same cluster \" + str(calculateNumOfEdges()))\n",
    "\n",
    "draw_main_nodes(main_nodes)\n",
    "closest_node = find_closest_node_to_central(main_nodes)\n",
    "main_node_connected_to_central[closest_node] = True\n",
    "connected_main_nodes = []   \n",
    "connect_main_nodes(main_nodes)\n",
    "connect_main_nodes(main_nodes)\n",
    "recursively_set_other_nodes_as_connected_to_central(closest_node, main_node_connected_to_central, connected_main_nodes)\n",
    "plt.scatter([central_node[0]], [central_node[1]], color = \"red\", s = 150)\n",
    "# plt.scatter([neigbour[0]], [neigbour[1]], color = \"green\", s = 130)\n",
    "\n",
    "for x in connected_main_nodes:\n",
    "#     if x[1] != None:\n",
    "        plt.plot([x[0][0], x[1][0]], [x[0][1], x[1][1]], lw = 5, color = \"black\", dashes = [2])\n",
    "#         plt.scatter([x[0][0], x[1][0]], [x[0][1], x[1][1]])\n",
    "\n",
    "\n",
    "for x in main_node_connected_to_central.keys():\n",
    "    if main_node_connected_to_central[x] == True:\n",
    "        plt.scatter([x[0]], [x[1]], color = \"blue\", s = 130)\n",
    "        \n",
    "fix_disconnected_main_nodes(connected_main_nodes, main_node_connected_to_central)\n",
    "\n",
    "plt.plot([central_node[0], closest_node[0]], [central_node[1], closest_node[1]], lw = 5, color = \"black\")\n",
    "plt.savefig(\"rezultati/slika_{}.png\".format(str(time.localtime()[3]) + \"_\" + str(time.localtime()[4]) + \"_\" + str(time.localtime()[5])))"
   ]
  },
  {
   "cell_type": "code",
   "execution_count": null,
   "id": "df48dc42-7481-4f76-8211-50698976a758",
   "metadata": {},
   "outputs": [],
   "source": [
    "str(time.localtime()[3]) + \"_\" + str(time.localtime()[4]) + \"_\" + str(time.localtime()[5]) "
   ]
  },
  {
   "cell_type": "code",
   "execution_count": null,
   "id": "b7ccc2ef-0a91-491f-a256-f74aeafaeb3f",
   "metadata": {},
   "outputs": [],
   "source": [
    "plt.bar([\"Broj ivica u početnom grafu\", \"Broj ivica u grafu podeljenom na regione\", \"Broj ivica nakon elimisanja nepotrebnih grana između dva čvora\"], [init_size,before,after])\n",
    "plt.legend([\"p = {}, k = {}\".format(p, k)])\n",
    "plt.xticks(rotation=45, ha='right')\n",
    "plt.savefig(\"rezultati/bar_{}.jpg\".format(str(time.localtime()[3]) + \"_\" + str(time.localtime()[4]) + \"_\" + str(time.localtime()[5])))"
   ]
  },
  {
   "cell_type": "code",
   "execution_count": null,
   "id": "bfd98277-bb36-40f2-a85c-22550ccebb5c",
   "metadata": {},
   "outputs": [],
   "source": [
    "# # plt.figure(figsize=(15, 15))\n",
    "# plt.bar([\"Broj ivica u početnom grafu\", \"Broj ivica u grafu podeljenom na regione\", \"Broj ivica nakon elimisanja nepotrebnih grana između dva čvora\"], [1686,1440,288])\n",
    "# plt.xticks(rotation=45, ha='right')\n",
    "# plt.legend([\"p = 1, k = 5\"])\n",
    "# plt.savefig(\"rezultati/bar 1\")"
   ]
  },
  {
   "cell_type": "code",
   "execution_count": null,
   "id": "2094f9fc-c885-46b8-8c37-3d37c60893c6",
   "metadata": {},
   "outputs": [],
   "source": [
    "# plt.bar([\"Broj ivica u početnom grafu\", \"Broj ivica u grafu podeljenom na regione\", \"Broj ivica nakon elimisanja nepotrebnih grana između dva čvora\"], [8518,7290,1458])\n",
    "# plt.xticks(rotation=45, ha='right')\n",
    "# plt.legend([\"p = 1, k = 10\"])\n",
    "# plt.savefig(\"rezultati/bar 2\")"
   ]
  }
 ],
 "metadata": {
  "kernelspec": {
   "display_name": "Python 3 (ipykernel)",
   "language": "python",
   "name": "python3"
  },
  "language_info": {
   "codemirror_mode": {
    "name": "ipython",
    "version": 3
   },
   "file_extension": ".py",
   "mimetype": "text/x-python",
   "name": "python",
   "nbconvert_exporter": "python",
   "pygments_lexer": "ipython3",
   "version": "3.10.12"
  }
 },
 "nbformat": 4,
 "nbformat_minor": 5
}
